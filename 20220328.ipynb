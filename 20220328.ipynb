{
  "nbformat": 4,
  "nbformat_minor": 0,
  "metadata": {
    "colab": {
      "name": "requests_gradio.ipynb",
      "provenance": [],
      "include_colab_link": true
    },
    "kernelspec": {
      "name": "python3",
      "display_name": "Python 3"
    },
    "language_info": {
      "name": "python"
    }
  },
  "cells": [
    {
      "cell_type": "markdown",
      "metadata": {
        "id": "view-in-github",
        "colab_type": "text"
      },
      "source": [
        "<a href=\"https://colab.research.google.com/github/hyunjioh02/2022-spring/blob/main/20220328.ipynb\" target=\"_parent\"><img src=\"https://colab.research.google.com/assets/colab-badge.svg\" alt=\"Open In Colab\"/></a>"
      ]
    },
    {
      "cell_type": "code",
      "source": [
        "!pip install gradio\n",
        "import gradio as gr\n",
        "import requests\n",
        "import pandas as pd"
      ],
      "metadata": {
        "id": "8eZHGJhmqd9a"
      },
      "execution_count": null,
      "outputs": []
    },
    {
      "cell_type": "code",
      "source": [
        "URL = ('http://apis.data.go.kr/1360000/VilageFcstInfoService_2.0/'\n",
        "'getUltraSrtNcst?'\n",
        "'serviceKey=A3Bq1uPynUN%2BncrA8mpUvffgoy08P%2BifR6IlY3gjK%2FlXpaMmkl08kwGcw1zR4qTHYs4vMuqyU5GiDg3q7Kzgdg%3D%3D'\n",
        "'&numOfRows=10'\n",
        "'&pageNo=1'\n",
        "'&dataType=JSON'\n",
        "'&base_date=20220405'\n",
        "'&base_time=1600'\n",
        "'&nx=61'\n",
        "'&ny=127')\n",
        "response = requests.get(URL)"
      ],
      "metadata": {
        "id": "Bl71VR6zjyb8"
      },
      "execution_count": 104,
      "outputs": []
    },
    {
      "cell_type": "code",
      "source": [
        "response"
      ],
      "metadata": {
        "id": "dsfLwlzblSKf",
        "outputId": "549a203f-a980-461f-bcb9-dac5311d15ca",
        "colab": {
          "base_uri": "https://localhost:8080/"
        }
      },
      "execution_count": 105,
      "outputs": [
        {
          "output_type": "execute_result",
          "data": {
            "text/plain": [
              "<Response [200]>"
            ]
          },
          "metadata": {},
          "execution_count": 105
        }
      ]
    },
    {
      "cell_type": "markdown",
      "source": [
        "#### http://jsonviewer.stack.hu/ (copy json here to view json)"
      ],
      "metadata": {
        "id": "faIENRyFfnY1"
      }
    },
    {
      "cell_type": "code",
      "source": [
        "r = response.json()\n",
        "r"
      ],
      "metadata": {
        "id": "JcLKwg0foR9p",
        "outputId": "eb6521d0-580f-41e4-c809-638123a0ee41",
        "colab": {
          "base_uri": "https://localhost:8080/"
        }
      },
      "execution_count": 106,
      "outputs": [
        {
          "output_type": "execute_result",
          "data": {
            "text/plain": [
              "{'response': {'body': {'dataType': 'JSON',\n",
              "   'items': {'item': [{'baseDate': '20220405',\n",
              "      'baseTime': '1600',\n",
              "      'category': 'PTY',\n",
              "      'nx': 61,\n",
              "      'ny': 127,\n",
              "      'obsrValue': '0'},\n",
              "     {'baseDate': '20220405',\n",
              "      'baseTime': '1600',\n",
              "      'category': 'REH',\n",
              "      'nx': 61,\n",
              "      'ny': 127,\n",
              "      'obsrValue': '21'},\n",
              "     {'baseDate': '20220405',\n",
              "      'baseTime': '1600',\n",
              "      'category': 'RN1',\n",
              "      'nx': 61,\n",
              "      'ny': 127,\n",
              "      'obsrValue': '0'},\n",
              "     {'baseDate': '20220405',\n",
              "      'baseTime': '1600',\n",
              "      'category': 'T1H',\n",
              "      'nx': 61,\n",
              "      'ny': 127,\n",
              "      'obsrValue': '14.7'},\n",
              "     {'baseDate': '20220405',\n",
              "      'baseTime': '1600',\n",
              "      'category': 'UUU',\n",
              "      'nx': 61,\n",
              "      'ny': 127,\n",
              "      'obsrValue': '2.5'},\n",
              "     {'baseDate': '20220405',\n",
              "      'baseTime': '1600',\n",
              "      'category': 'VEC',\n",
              "      'nx': 61,\n",
              "      'ny': 127,\n",
              "      'obsrValue': '241'},\n",
              "     {'baseDate': '20220405',\n",
              "      'baseTime': '1600',\n",
              "      'category': 'VVV',\n",
              "      'nx': 61,\n",
              "      'ny': 127,\n",
              "      'obsrValue': '1.3'},\n",
              "     {'baseDate': '20220405',\n",
              "      'baseTime': '1600',\n",
              "      'category': 'WSD',\n",
              "      'nx': 61,\n",
              "      'ny': 127,\n",
              "      'obsrValue': '2.8'}]},\n",
              "   'numOfRows': 10,\n",
              "   'pageNo': 1,\n",
              "   'totalCount': 8},\n",
              "  'header': {'resultCode': '00', 'resultMsg': 'NORMAL_SERVICE'}}}"
            ]
          },
          "metadata": {},
          "execution_count": 106
        }
      ]
    },
    {
      "cell_type": "code",
      "source": [
        "print(type(r))"
      ],
      "metadata": {
        "id": "uPK-0DK6XrRP",
        "outputId": "eb8fef11-4abe-4290-8482-7f1bb67a090f",
        "colab": {
          "base_uri": "https://localhost:8080/"
        }
      },
      "execution_count": 107,
      "outputs": [
        {
          "output_type": "stream",
          "name": "stdout",
          "text": [
            "<class 'dict'>\n"
          ]
        }
      ]
    },
    {
      "cell_type": "code",
      "source": [
        "items = r['response']['body']['items']['item']\n",
        "items"
      ],
      "metadata": {
        "id": "GgBBFBwqYXp8",
        "outputId": "cb07d2a6-b62d-4229-a01b-b25672155746",
        "colab": {
          "base_uri": "https://localhost:8080/"
        }
      },
      "execution_count": 108,
      "outputs": [
        {
          "output_type": "execute_result",
          "data": {
            "text/plain": [
              "[{'baseDate': '20220405',\n",
              "  'baseTime': '1600',\n",
              "  'category': 'PTY',\n",
              "  'nx': 61,\n",
              "  'ny': 127,\n",
              "  'obsrValue': '0'},\n",
              " {'baseDate': '20220405',\n",
              "  'baseTime': '1600',\n",
              "  'category': 'REH',\n",
              "  'nx': 61,\n",
              "  'ny': 127,\n",
              "  'obsrValue': '21'},\n",
              " {'baseDate': '20220405',\n",
              "  'baseTime': '1600',\n",
              "  'category': 'RN1',\n",
              "  'nx': 61,\n",
              "  'ny': 127,\n",
              "  'obsrValue': '0'},\n",
              " {'baseDate': '20220405',\n",
              "  'baseTime': '1600',\n",
              "  'category': 'T1H',\n",
              "  'nx': 61,\n",
              "  'ny': 127,\n",
              "  'obsrValue': '14.7'},\n",
              " {'baseDate': '20220405',\n",
              "  'baseTime': '1600',\n",
              "  'category': 'UUU',\n",
              "  'nx': 61,\n",
              "  'ny': 127,\n",
              "  'obsrValue': '2.5'},\n",
              " {'baseDate': '20220405',\n",
              "  'baseTime': '1600',\n",
              "  'category': 'VEC',\n",
              "  'nx': 61,\n",
              "  'ny': 127,\n",
              "  'obsrValue': '241'},\n",
              " {'baseDate': '20220405',\n",
              "  'baseTime': '1600',\n",
              "  'category': 'VVV',\n",
              "  'nx': 61,\n",
              "  'ny': 127,\n",
              "  'obsrValue': '1.3'},\n",
              " {'baseDate': '20220405',\n",
              "  'baseTime': '1600',\n",
              "  'category': 'WSD',\n",
              "  'nx': 61,\n",
              "  'ny': 127,\n",
              "  'obsrValue': '2.8'}]"
            ]
          },
          "metadata": {},
          "execution_count": 108
        }
      ]
    },
    {
      "cell_type": "code",
      "source": [
        "items = r['response']['body']['items']['item']\n",
        "\n",
        "baseTime = [item['baseTime'] for item in items]\n",
        "nx = [item['nx'] for item in items]\n",
        "ny = [item['ny'] for item in items]\n",
        "category = [item['category'] for item in items]\n",
        "obsrValue = [item['obsrValue'] for item in items]\n",
        "\n",
        "baseTime = pd.Series(baseTime)   \n",
        "nx = pd.Series(nx)\n",
        "ny = pd.Series(ny)\n",
        "category = pd.Series(category)\n",
        "obsrValue = pd.Series(obsrValue)\n",
        "\n",
        "df = pd.DataFrame({'baseTime': baseTime, 'nx': nx, 'ny': ny, 'category': category, 'obsrValue': obsrValue})"
      ],
      "metadata": {
        "id": "W8lA0-IzE55W"
      },
      "execution_count": 109,
      "outputs": []
    },
    {
      "cell_type": "code",
      "source": [
        "df"
      ],
      "metadata": {
        "id": "qUS53c0W6UIA",
        "outputId": "8ea5e2be-a916-4271-a76b-e3a5fb696436",
        "colab": {
          "base_uri": "https://localhost:8080/",
          "height": 300
        }
      },
      "execution_count": 135,
      "outputs": [
        {
          "output_type": "execute_result",
          "data": {
            "text/plain": [
              "  baseTime  nx   ny category obsrValue\n",
              "0     1600  61  127      PTY         0\n",
              "1     1600  61  127      REH        21\n",
              "2     1600  61  127      RN1         0\n",
              "3     1600  61  127      T1H      14.7\n",
              "4     1600  61  127      UUU       2.5\n",
              "5     1600  61  127      VEC       241\n",
              "6     1600  61  127      VVV       1.3\n",
              "7     1600  61  127      WSD       2.8"
            ],
            "text/html": [
              "\n",
              "  <div id=\"df-1026fdc4-e81d-4479-9fca-e5e9d25eaf85\">\n",
              "    <div class=\"colab-df-container\">\n",
              "      <div>\n",
              "<style scoped>\n",
              "    .dataframe tbody tr th:only-of-type {\n",
              "        vertical-align: middle;\n",
              "    }\n",
              "\n",
              "    .dataframe tbody tr th {\n",
              "        vertical-align: top;\n",
              "    }\n",
              "\n",
              "    .dataframe thead th {\n",
              "        text-align: right;\n",
              "    }\n",
              "</style>\n",
              "<table border=\"1\" class=\"dataframe\">\n",
              "  <thead>\n",
              "    <tr style=\"text-align: right;\">\n",
              "      <th></th>\n",
              "      <th>baseTime</th>\n",
              "      <th>nx</th>\n",
              "      <th>ny</th>\n",
              "      <th>category</th>\n",
              "      <th>obsrValue</th>\n",
              "    </tr>\n",
              "  </thead>\n",
              "  <tbody>\n",
              "    <tr>\n",
              "      <th>0</th>\n",
              "      <td>1600</td>\n",
              "      <td>61</td>\n",
              "      <td>127</td>\n",
              "      <td>PTY</td>\n",
              "      <td>0</td>\n",
              "    </tr>\n",
              "    <tr>\n",
              "      <th>1</th>\n",
              "      <td>1600</td>\n",
              "      <td>61</td>\n",
              "      <td>127</td>\n",
              "      <td>REH</td>\n",
              "      <td>21</td>\n",
              "    </tr>\n",
              "    <tr>\n",
              "      <th>2</th>\n",
              "      <td>1600</td>\n",
              "      <td>61</td>\n",
              "      <td>127</td>\n",
              "      <td>RN1</td>\n",
              "      <td>0</td>\n",
              "    </tr>\n",
              "    <tr>\n",
              "      <th>3</th>\n",
              "      <td>1600</td>\n",
              "      <td>61</td>\n",
              "      <td>127</td>\n",
              "      <td>T1H</td>\n",
              "      <td>14.7</td>\n",
              "    </tr>\n",
              "    <tr>\n",
              "      <th>4</th>\n",
              "      <td>1600</td>\n",
              "      <td>61</td>\n",
              "      <td>127</td>\n",
              "      <td>UUU</td>\n",
              "      <td>2.5</td>\n",
              "    </tr>\n",
              "    <tr>\n",
              "      <th>5</th>\n",
              "      <td>1600</td>\n",
              "      <td>61</td>\n",
              "      <td>127</td>\n",
              "      <td>VEC</td>\n",
              "      <td>241</td>\n",
              "    </tr>\n",
              "    <tr>\n",
              "      <th>6</th>\n",
              "      <td>1600</td>\n",
              "      <td>61</td>\n",
              "      <td>127</td>\n",
              "      <td>VVV</td>\n",
              "      <td>1.3</td>\n",
              "    </tr>\n",
              "    <tr>\n",
              "      <th>7</th>\n",
              "      <td>1600</td>\n",
              "      <td>61</td>\n",
              "      <td>127</td>\n",
              "      <td>WSD</td>\n",
              "      <td>2.8</td>\n",
              "    </tr>\n",
              "  </tbody>\n",
              "</table>\n",
              "</div>\n",
              "      <button class=\"colab-df-convert\" onclick=\"convertToInteractive('df-1026fdc4-e81d-4479-9fca-e5e9d25eaf85')\"\n",
              "              title=\"Convert this dataframe to an interactive table.\"\n",
              "              style=\"display:none;\">\n",
              "        \n",
              "  <svg xmlns=\"http://www.w3.org/2000/svg\" height=\"24px\"viewBox=\"0 0 24 24\"\n",
              "       width=\"24px\">\n",
              "    <path d=\"M0 0h24v24H0V0z\" fill=\"none\"/>\n",
              "    <path d=\"M18.56 5.44l.94 2.06.94-2.06 2.06-.94-2.06-.94-.94-2.06-.94 2.06-2.06.94zm-11 1L8.5 8.5l.94-2.06 2.06-.94-2.06-.94L8.5 2.5l-.94 2.06-2.06.94zm10 10l.94 2.06.94-2.06 2.06-.94-2.06-.94-.94-2.06-.94 2.06-2.06.94z\"/><path d=\"M17.41 7.96l-1.37-1.37c-.4-.4-.92-.59-1.43-.59-.52 0-1.04.2-1.43.59L10.3 9.45l-7.72 7.72c-.78.78-.78 2.05 0 2.83L4 21.41c.39.39.9.59 1.41.59.51 0 1.02-.2 1.41-.59l7.78-7.78 2.81-2.81c.8-.78.8-2.07 0-2.86zM5.41 20L4 18.59l7.72-7.72 1.47 1.35L5.41 20z\"/>\n",
              "  </svg>\n",
              "      </button>\n",
              "      \n",
              "  <style>\n",
              "    .colab-df-container {\n",
              "      display:flex;\n",
              "      flex-wrap:wrap;\n",
              "      gap: 12px;\n",
              "    }\n",
              "\n",
              "    .colab-df-convert {\n",
              "      background-color: #E8F0FE;\n",
              "      border: none;\n",
              "      border-radius: 50%;\n",
              "      cursor: pointer;\n",
              "      display: none;\n",
              "      fill: #1967D2;\n",
              "      height: 32px;\n",
              "      padding: 0 0 0 0;\n",
              "      width: 32px;\n",
              "    }\n",
              "\n",
              "    .colab-df-convert:hover {\n",
              "      background-color: #E2EBFA;\n",
              "      box-shadow: 0px 1px 2px rgba(60, 64, 67, 0.3), 0px 1px 3px 1px rgba(60, 64, 67, 0.15);\n",
              "      fill: #174EA6;\n",
              "    }\n",
              "\n",
              "    [theme=dark] .colab-df-convert {\n",
              "      background-color: #3B4455;\n",
              "      fill: #D2E3FC;\n",
              "    }\n",
              "\n",
              "    [theme=dark] .colab-df-convert:hover {\n",
              "      background-color: #434B5C;\n",
              "      box-shadow: 0px 1px 3px 1px rgba(0, 0, 0, 0.15);\n",
              "      filter: drop-shadow(0px 1px 2px rgba(0, 0, 0, 0.3));\n",
              "      fill: #FFFFFF;\n",
              "    }\n",
              "  </style>\n",
              "\n",
              "      <script>\n",
              "        const buttonEl =\n",
              "          document.querySelector('#df-1026fdc4-e81d-4479-9fca-e5e9d25eaf85 button.colab-df-convert');\n",
              "        buttonEl.style.display =\n",
              "          google.colab.kernel.accessAllowed ? 'block' : 'none';\n",
              "\n",
              "        async function convertToInteractive(key) {\n",
              "          const element = document.querySelector('#df-1026fdc4-e81d-4479-9fca-e5e9d25eaf85');\n",
              "          const dataTable =\n",
              "            await google.colab.kernel.invokeFunction('convertToInteractive',\n",
              "                                                     [key], {});\n",
              "          if (!dataTable) return;\n",
              "\n",
              "          const docLinkHtml = 'Like what you see? Visit the ' +\n",
              "            '<a target=\"_blank\" href=https://colab.research.google.com/notebooks/data_table.ipynb>data table notebook</a>'\n",
              "            + ' to learn more about interactive tables.';\n",
              "          element.innerHTML = '';\n",
              "          dataTable['output_type'] = 'display_data';\n",
              "          await google.colab.output.renderOutput(dataTable, element);\n",
              "          const docLink = document.createElement('div');\n",
              "          docLink.innerHTML = docLinkHtml;\n",
              "          element.appendChild(docLink);\n",
              "        }\n",
              "      </script>\n",
              "    </div>\n",
              "  </div>\n",
              "  "
            ]
          },
          "metadata": {},
          "execution_count": 135
        }
      ]
    },
    {
      "cell_type": "code",
      "source": [
        "def test(baseDate):\n",
        "  URL = ('http://apis.data.go.kr/1360000/VilageFcstInfoService_2.0/'\n",
        "'getUltraSrtNcst?'\n",
        "'serviceKey=A3Bq1uPynUN%2BncrA8mpUvffgoy08P%2BifR6IlY3gjK%2FlXpaMmkl08kwGcw1zR4qTHYs4vMuqyU5GiDg3q7Kzgdg%3D%3D'\n",
        "'&numOfRows=10'\n",
        "'&pageNo=1'\n",
        "'&dataType=JSON'\n",
        "'&base_date='+baseDate+\n",
        "'&base_time=1600'\n",
        "'&nx=61'\n",
        "'&ny=127')\n",
        "  response = requests.get(URL)\n",
        "  r = response.json()\n",
        "  items = r['response']['body']['items']['item']\n",
        "\n",
        "  baseTime = [item['baseTime'] for item in items]\n",
        "  nx = [item['nx'] for item in items]\n",
        "  ny = [item['ny'] for item in items]\n",
        "  category = [item['category'] for item in items]\n",
        "  obsrValue = [item['obsrValue'] for item in items]\n",
        "\n",
        "  baseTime = pd.Series(baseTime)   \n",
        "  nx = pd.Series(nx)\n",
        "  ny = pd.Series(ny)\n",
        "  category = pd.Series(category)\n",
        "  obsrValue = pd.Series(obsrValue)\n",
        "\n",
        "  df = pd.DataFrame({'baseTime': baseTime, 'nx': nx, 'ny': ny, 'category': category, 'obsrValue': obsrValue})\n",
        "  return df"
      ],
      "metadata": {
        "id": "xa2Gb_qsm_G5"
      },
      "execution_count": 140,
      "outputs": []
    },
    {
      "cell_type": "code",
      "source": [
        "iface = gr.Interface(test, gr.inputs.Dropdown(['20220401', '20220402', '20220403', '20220404', '20220405', '20220406']), outputs=['dataframe'])\n",
        "iface.launch(debug=True)"
      ],
      "metadata": {
        "id": "kxORJVPOnDSP",
        "outputId": "6ddd6d91-332b-4d6a-e1b9-a4366a569703",
        "colab": {
          "base_uri": "https://localhost:8080/",
          "height": 1000
        }
      },
      "execution_count": 142,
      "outputs": [
        {
          "output_type": "stream",
          "name": "stdout",
          "text": [
            "Colab notebook detected. This cell will run indefinitely so that you can see errors and logs. To turn off, set debug=False in launch().\n",
            "Running on public URL: https://29903.gradio.app\n",
            "\n",
            "This share link expires in 72 hours. For free permanent hosting, check out Spaces (https://huggingface.co/spaces)\n"
          ]
        },
        {
          "output_type": "display_data",
          "data": {
            "text/plain": [
              "<IPython.lib.display.IFrame at 0x7f5ca8907950>"
            ],
            "text/html": [
              "\n",
              "        <iframe\n",
              "            width=\"900\"\n",
              "            height=\"500\"\n",
              "            src=\"https://29903.gradio.app\"\n",
              "            frameborder=\"0\"\n",
              "            allowfullscreen\n",
              "        ></iframe>\n",
              "        "
            ]
          },
          "metadata": {}
        },
        {
          "output_type": "stream",
          "name": "stderr",
          "text": [
            "Traceback (most recent call last):\n",
            "  File \"/usr/local/lib/python3.7/dist-packages/gradio/routes.py\", line 269, in predict\n",
            "    output = await run_in_threadpool(app.launchable.process_api, body, username)\n",
            "  File \"/usr/local/lib/python3.7/dist-packages/starlette/concurrency.py\", line 39, in run_in_threadpool\n",
            "    return await anyio.to_thread.run_sync(func, *args)\n",
            "  File \"/usr/local/lib/python3.7/dist-packages/anyio/to_thread.py\", line 29, in run_sync\n",
            "    limiter=limiter)\n",
            "  File \"/usr/local/lib/python3.7/dist-packages/anyio/_backends/_asyncio.py\", line 818, in run_sync_in_worker_thread\n",
            "    return await future\n",
            "  File \"/usr/local/lib/python3.7/dist-packages/anyio/_backends/_asyncio.py\", line 754, in run\n",
            "    result = context.run(func, *args)\n",
            "  File \"/usr/local/lib/python3.7/dist-packages/gradio/interface.py\", line 573, in process_api\n",
            "    prediction, durations = self.process(raw_input)\n",
            "  File \"/usr/local/lib/python3.7/dist-packages/gradio/interface.py\", line 616, in process\n",
            "    processed_input, return_duration=True\n",
            "  File \"/usr/local/lib/python3.7/dist-packages/gradio/interface.py\", line 531, in run_prediction\n",
            "    prediction = predict_fn(*processed_input)\n",
            "  File \"<ipython-input-140-521889778f18>\", line 14, in test\n",
            "    items = r['response']['body']['items']['item']\n",
            "KeyError: 'body'\n"
          ]
        },
        {
          "output_type": "stream",
          "name": "stdout",
          "text": [
            "Keyboard interruption in main thread... closing server.\n"
          ]
        },
        {
          "output_type": "execute_result",
          "data": {
            "text/plain": [
              "(<fastapi.applications.FastAPI at 0x7f5cb8d47e10>,\n",
              " 'http://127.0.0.1:7861/',\n",
              " 'https://29903.gradio.app')"
            ]
          },
          "metadata": {},
          "execution_count": 142
        }
      ]
    }
  ]
}
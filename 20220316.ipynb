{
  "nbformat": 4,
  "nbformat_minor": 0,
  "metadata": {
    "colab": {
      "name": "20220316.ipynb",
      "provenance": [],
      "collapsed_sections": [],
      "authorship_tag": "ABX9TyOGsNc0yLHClplQMOZKv3Gy",
      "include_colab_link": true
    },
    "kernelspec": {
      "name": "python3",
      "display_name": "Python 3"
    },
    "language_info": {
      "name": "python"
    }
  },
  "cells": [
    {
      "cell_type": "markdown",
      "metadata": {
        "id": "view-in-github",
        "colab_type": "text"
      },
      "source": [
        "<a href=\"https://colab.research.google.com/github/hyunjioh02/2022-spring/blob/main/20220316.ipynb\" target=\"_parent\"><img src=\"https://colab.research.google.com/assets/colab-badge.svg\" alt=\"Open In Colab\"/></a>"
      ]
    },
    {
      "cell_type": "markdown",
      "source": [
        "3월 9일 수업분"
      ],
      "metadata": {
        "id": "Al6TCaEznV6X"
      }
    },
    {
      "cell_type": "markdown",
      "source": [
        "1. 코딩에서 중요한 것\n",
        "  1. 변수\n",
        "  2. 문법 [조건문(if), 반복문(for)}\n",
        "  3. 함수\n",
        "  4. 팩키지(library)\n",
        "\n"
      ],
      "metadata": {
        "id": "OX7bS9_4Ion3"
      }
    },
    {
      "cell_type": "code",
      "source": [
        "a=1\n",
        "b=2\n",
        "c=3.0"
      ],
      "metadata": {
        "id": "__7PofRLJf95"
      },
      "execution_count": null,
      "outputs": []
    },
    {
      "cell_type": "markdown",
      "source": [
        "print는 내용을 출력,\n",
        "print(type)은 내용의 유형을 출력. int= 정수, float= 실수\n",
        "\n",
        "\n",
        "\n"
      ],
      "metadata": {
        "id": "d0odTrmzOjQn"
      }
    },
    {
      "cell_type": "code",
      "execution_count": null,
      "metadata": {
        "colab": {
          "base_uri": "https://localhost:8080/"
        },
        "id": "cwHs0wY2IBpY",
        "outputId": "e3a1e90c-97ab-4207-d8c0-e9a845f07584"
      },
      "outputs": [
        {
          "output_type": "stream",
          "name": "stdout",
          "text": [
            "1\n",
            "<class 'int'>\n",
            "<class 'float'>\n"
          ]
        }
      ],
      "source": [
        "print(a)\n",
        "print(type(b))\n",
        "print(type(c))"
      ]
    },
    {
      "cell_type": "markdown",
      "source": [
        "'~'은 문자 표시. [n]은 n번째 문자 표시 (1이 아니라 0부터 시작)"
      ],
      "metadata": {
        "id": "c_CvrqD3R-Z2"
      }
    },
    {
      "cell_type": "code",
      "source": [
        "a='234'\n",
        "print(type(a))\n",
        "print(a[2])"
      ],
      "metadata": {
        "colab": {
          "base_uri": "https://localhost:8080/"
        },
        "id": "_SpZn7E_QwM5",
        "outputId": "aaf9fd60-c951-4a47-8ff1-3267023d7656"
      },
      "execution_count": null,
      "outputs": [
        {
          "output_type": "stream",
          "name": "stdout",
          "text": [
            "<class 'str'>\n",
            "4\n"
          ]
        }
      ]
    },
    {
      "cell_type": "code",
      "source": [
        "a='world'\n",
        "print(type(a))\n",
        "print(a[0])"
      ],
      "metadata": {
        "colab": {
          "base_uri": "https://localhost:8080/"
        },
        "id": "3wBiJ0rgTCDt",
        "outputId": "d4fb011c-15d6-4167-df1f-8185bbbcf9cf"
      },
      "execution_count": null,
      "outputs": [
        {
          "output_type": "stream",
          "name": "stdout",
          "text": [
            "<class 'str'>\n",
            "w\n"
          ]
        }
      ]
    },
    {
      "cell_type": "markdown",
      "source": [
        "변수\n",
        "1. 숫자\n",
        "2. 문자\n",
        "3. list [숫자, 문자] 대괄호 대신 소괄호 쓰면 tuple. list랑 똑같지만 tuple은 아이템을 바꿀 수 없음.\n",
        "4. dict"
      ],
      "metadata": {
        "id": "yT4UYK0rS0HK"
      }
    },
    {
      "cell_type": "code",
      "source": [
        "a=[1,2,3,5]\n",
        "print(type(a))\n",
        "print(a[0])"
      ],
      "metadata": {
        "colab": {
          "base_uri": "https://localhost:8080/"
        },
        "id": "jpbfH6r2S_UU",
        "outputId": "8def6e2d-1288-48b0-9b18-05266fcb5c89"
      },
      "execution_count": null,
      "outputs": [
        {
          "output_type": "stream",
          "name": "stdout",
          "text": [
            "<class 'list'>\n",
            "1\n"
          ]
        }
      ]
    },
    {
      "cell_type": "code",
      "source": [
        "a[0:3] #0번째부터 포함, 3번째부터 포함X"
      ],
      "metadata": {
        "colab": {
          "base_uri": "https://localhost:8080/"
        },
        "id": "NQVX0Rjabrvd",
        "outputId": "f9643ab7-f9ef-4e6b-d9bf-6a6cda8743d0"
      },
      "execution_count": null,
      "outputs": [
        {
          "output_type": "execute_result",
          "data": {
            "text/plain": [
              "[1, 2, 3]"
            ]
          },
          "metadata": {},
          "execution_count": 32
        }
      ]
    },
    {
      "cell_type": "code",
      "source": [
        "a[:] #전체 포함"
      ],
      "metadata": {
        "colab": {
          "base_uri": "https://localhost:8080/"
        },
        "id": "V9ulTVb-dUjj",
        "outputId": "484496a3-7180-48f9-a719-03d8186c02e5"
      },
      "execution_count": null,
      "outputs": [
        {
          "output_type": "execute_result",
          "data": {
            "text/plain": [
              "[1, 2, 3, 5]"
            ]
          },
          "metadata": {},
          "execution_count": 33
        }
      ]
    },
    {
      "cell_type": "code",
      "source": [
        "a=[1,2,3,4,5]\n",
        "a[:3] #처음부터 포함, 3번째부터 포함X"
      ],
      "metadata": {
        "colab": {
          "base_uri": "https://localhost:8080/"
        },
        "id": "N6tULbaTdak1",
        "outputId": "12e8d7d5-1ba4-416a-937c-045ff105b135"
      },
      "execution_count": null,
      "outputs": [
        {
          "output_type": "execute_result",
          "data": {
            "text/plain": [
              "[1, 2, 3]"
            ]
          },
          "metadata": {},
          "execution_count": 2
        }
      ]
    },
    {
      "cell_type": "code",
      "source": [
        "a[1:-1] #1번째부터 포함, -1번째부터 미포함"
      ],
      "metadata": {
        "colab": {
          "base_uri": "https://localhost:8080/"
        },
        "id": "oPdabIRjCZER",
        "outputId": "f02d7b76-516b-499e-ad6e-d11f05ce04df"
      },
      "execution_count": null,
      "outputs": [
        {
          "output_type": "execute_result",
          "data": {
            "text/plain": [
              "[2, 3, 4]"
            ]
          },
          "metadata": {},
          "execution_count": 3
        }
      ]
    },
    {
      "cell_type": "markdown",
      "source": [
        "리스트 안에 리스트 넣는 것도 가능. 한 리스트에 숫자 문자 모두 넣을 수 있음."
      ],
      "metadata": {
        "id": "3i8smS7oZTY3"
      }
    },
    {
      "cell_type": "code",
      "source": [
        "a=[1,'a',[2,'3']]\n",
        "print(type(a))\n",
        "print(a[0])\n",
        "print(a[1])\n",
        "print(a[2])\n",
        "print(a[2][0]) #list 2번째 아이템인 [2,'3']의 0번째 숫자"
      ],
      "metadata": {
        "colab": {
          "base_uri": "https://localhost:8080/"
        },
        "id": "Dh_YDIHuX_Am",
        "outputId": "5a6f1ac4-bc0e-442f-a8f9-f64d678f7250"
      },
      "execution_count": null,
      "outputs": [
        {
          "output_type": "stream",
          "name": "stdout",
          "text": [
            "<class 'list'>\n",
            "1\n",
            "a\n",
            "[2, '3']\n",
            "2\n"
          ]
        }
      ]
    },
    {
      "cell_type": "code",
      "source": [
        "a='abcde1234'\n",
        "print(type(a))\n",
        "a[2:5] #문자인 경우에도 인덱스 방법 똑같음"
      ],
      "metadata": {
        "colab": {
          "base_uri": "https://localhost:8080/",
          "height": 54
        },
        "id": "gf3VoK_IjzBL",
        "outputId": "348696a6-9c28-4ab2-948f-56652ef373b9"
      },
      "execution_count": null,
      "outputs": [
        {
          "output_type": "stream",
          "name": "stdout",
          "text": [
            "<class 'str'>\n"
          ]
        },
        {
          "output_type": "execute_result",
          "data": {
            "text/plain": [
              "'cde'"
            ],
            "application/vnd.google.colaboratory.intrinsic+json": {
              "type": "string"
            }
          },
          "metadata": {},
          "execution_count": 49
        }
      ]
    },
    {
      "cell_type": "markdown",
      "source": [
        "dict. a,b,c가 key, 단어들이 value. 각각 숫자가 오든 문자가 오든 상관 없음."
      ],
      "metadata": {
        "id": "mmuj6pkZCpzF"
      }
    },
    {
      "cell_type": "code",
      "source": [
        "a={'a':'apple', 'b':'banana', 'c':2022}\n",
        "a['a'] #a에 해당하는 value가 출력됨"
      ],
      "metadata": {
        "id": "peFEz4ebmgm1",
        "colab": {
          "base_uri": "https://localhost:8080/",
          "height": 35
        },
        "outputId": "3ab5d232-e6cc-4b49-c0ea-a4dabdaf4c63"
      },
      "execution_count": null,
      "outputs": [
        {
          "output_type": "execute_result",
          "data": {
            "text/plain": [
              "'apple'"
            ],
            "application/vnd.google.colaboratory.intrinsic+json": {
              "type": "string"
            }
          },
          "metadata": {},
          "execution_count": 6
        }
      ]
    },
    {
      "cell_type": "markdown",
      "source": [
        "3월 14일 수업분"
      ],
      "metadata": {
        "id": "mDsA5_7vnAj_"
      }
    },
    {
      "cell_type": "code",
      "execution_count": null,
      "metadata": {
        "colab": {
          "base_uri": "https://localhost:8080/"
        },
        "id": "Uk3ExlIUE_jp",
        "outputId": "1f7dbf2b-5101-4ce7-a6dd-dcfd52b79513"
      },
      "outputs": [
        {
          "output_type": "stream",
          "name": "stdout",
          "text": [
            "h l o\n",
            "he hello ell\n"
          ]
        }
      ],
      "source": [
        "s='hello'\n",
        "print(s[0],s[2],s[-1])\n",
        "print(s[0:2],s[:],s[1:-1])"
      ]
    },
    {
      "cell_type": "code",
      "source": [
        "n = [10, 15, 20, 25, 30]\n",
        "print(n[1], n[0], n[-2])\n",
        "print(n[:], n[0:2], n[-3:-1])"
      ],
      "metadata": {
        "colab": {
          "base_uri": "https://localhost:8080/"
        },
        "id": "ce51BGsQGrZg",
        "outputId": "316f99ff-10f4-4f36-b5f0-ee57990243e7"
      },
      "execution_count": null,
      "outputs": [
        {
          "output_type": "stream",
          "name": "stdout",
          "text": [
            "15 10 25\n",
            "[10, 15, 20, 25, 30] [10, 15] [20, 25]\n"
          ]
        }
      ]
    },
    {
      "cell_type": "code",
      "source": [
        "len(s) #s의 길이(글자수)"
      ],
      "metadata": {
        "colab": {
          "base_uri": "https://localhost:8080/"
        },
        "id": "9Ej6XFYlHSLh",
        "outputId": "2099c5ad-53d8-4ba5-adf5-3db3c0fec2d0"
      },
      "execution_count": null,
      "outputs": [
        {
          "output_type": "execute_result",
          "data": {
            "text/plain": [
              "5"
            ]
          },
          "metadata": {},
          "execution_count": 18
        }
      ]
    },
    {
      "cell_type": "code",
      "source": [
        "s[0]+s[2]+s[1:3]*5"
      ],
      "metadata": {
        "colab": {
          "base_uri": "https://localhost:8080/",
          "height": 35
        },
        "id": "X-K2M-xxHtXf",
        "outputId": "d37c9dfb-003f-4e28-b201-154d26ca8336"
      },
      "execution_count": null,
      "outputs": [
        {
          "output_type": "execute_result",
          "data": {
            "text/plain": [
              "'hlelelelelel'"
            ],
            "application/vnd.google.colaboratory.intrinsic+json": {
              "type": "string"
            }
          },
          "metadata": {},
          "execution_count": 19
        }
      ]
    },
    {
      "cell_type": "code",
      "source": [
        "s.upper() #대문자로 만들어줌"
      ],
      "metadata": {
        "colab": {
          "base_uri": "https://localhost:8080/",
          "height": 35
        },
        "id": "U3hescSBIHUu",
        "outputId": "11fd169f-4a16-41b8-9509-46c6665bc928"
      },
      "execution_count": null,
      "outputs": [
        {
          "output_type": "execute_result",
          "data": {
            "text/plain": [
              "'HELLO'"
            ],
            "application/vnd.google.colaboratory.intrinsic+json": {
              "type": "string"
            }
          },
          "metadata": {},
          "execution_count": 21
        }
      ]
    },
    {
      "cell_type": "code",
      "source": [
        "s = 'today is monday.  '\n",
        "s"
      ],
      "metadata": {
        "colab": {
          "base_uri": "https://localhost:8080/",
          "height": 35
        },
        "id": "3n550a0OIcJx",
        "outputId": "3e511571-1537-487e-92cb-5ef9e3514525"
      },
      "execution_count": null,
      "outputs": [
        {
          "output_type": "execute_result",
          "data": {
            "text/plain": [
              "'today is monday.  '"
            ],
            "application/vnd.google.colaboratory.intrinsic+json": {
              "type": "string"
            }
          },
          "metadata": {},
          "execution_count": 39
        }
      ]
    },
    {
      "cell_type": "code",
      "source": [
        "result = s.find('today') #'today'의 위치는 0번째\n",
        "result"
      ],
      "metadata": {
        "colab": {
          "base_uri": "https://localhost:8080/"
        },
        "id": "yr0PJ2FXJYq1",
        "outputId": "61057fad-daf4-4db3-db64-a4399d73644e"
      },
      "execution_count": null,
      "outputs": [
        {
          "output_type": "execute_result",
          "data": {
            "text/plain": [
              "0"
            ]
          },
          "metadata": {},
          "execution_count": 40
        }
      ]
    },
    {
      "cell_type": "code",
      "source": [
        "result = s.find('monday') #'monday'의 위치는 9번째(띄어쓰기 포함)\n",
        "result"
      ],
      "metadata": {
        "colab": {
          "base_uri": "https://localhost:8080/"
        },
        "id": "5ozywT1UJiS6",
        "outputId": "d7eebf8b-78ab-46dc-e54e-9871e10f311e"
      },
      "execution_count": null,
      "outputs": [
        {
          "output_type": "execute_result",
          "data": {
            "text/plain": [
              "9"
            ]
          },
          "metadata": {},
          "execution_count": 41
        }
      ]
    },
    {
      "cell_type": "code",
      "source": [
        "s = s.strip() #문장부호, white space 없애줌\n",
        "s"
      ],
      "metadata": {
        "colab": {
          "base_uri": "https://localhost:8080/",
          "height": 35
        },
        "id": "qExJMnTGJ1lR",
        "outputId": "9c1836c4-b26b-43d9-c66b-18c1ac6a3bb5"
      },
      "execution_count": null,
      "outputs": [
        {
          "output_type": "execute_result",
          "data": {
            "text/plain": [
              "'today is monday.'"
            ],
            "application/vnd.google.colaboratory.intrinsic+json": {
              "type": "string"
            }
          },
          "metadata": {},
          "execution_count": 42
        }
      ]
    },
    {
      "cell_type": "code",
      "source": [
        "tokens = s.split(' ') #빈칸 중심으로 쪼개줌\n",
        "tokens"
      ],
      "metadata": {
        "colab": {
          "base_uri": "https://localhost:8080/"
        },
        "id": "b40gg8fFKWsN",
        "outputId": "c15a3d89-436c-4e2a-83a1-b816f391d090"
      },
      "execution_count": null,
      "outputs": [
        {
          "output_type": "execute_result",
          "data": {
            "text/plain": [
              "['today', 'is', 'monday.']"
            ]
          },
          "metadata": {},
          "execution_count": 43
        }
      ]
    },
    {
      "cell_type": "code",
      "source": [
        "s = ' '.join(tokens) #빈칸을 이용하여 리스트 합치기\n",
        "s"
      ],
      "metadata": {
        "colab": {
          "base_uri": "https://localhost:8080/",
          "height": 35
        },
        "id": "e7OydqbtKlKn",
        "outputId": "16f67da7-0cc7-41f2-e953-2e34cc05d356"
      },
      "execution_count": null,
      "outputs": [
        {
          "output_type": "execute_result",
          "data": {
            "text/plain": [
              "'today is monday.'"
            ],
            "application/vnd.google.colaboratory.intrinsic+json": {
              "type": "string"
            }
          },
          "metadata": {},
          "execution_count": 46
        }
      ]
    },
    {
      "cell_type": "code",
      "source": [
        "s = s.replace('monday', 'tuesday') #'monday'를 'tuesday'로 바꾸기\n",
        "s"
      ],
      "metadata": {
        "colab": {
          "base_uri": "https://localhost:8080/",
          "height": 35
        },
        "id": "qHoXlYUCOF91",
        "outputId": "8620dc32-c150-490a-e7f1-e338051202fc"
      },
      "execution_count": null,
      "outputs": [
        {
          "output_type": "execute_result",
          "data": {
            "text/plain": [
              "'today is tuesday.'"
            ],
            "application/vnd.google.colaboratory.intrinsic+json": {
              "type": "string"
            }
          },
          "metadata": {},
          "execution_count": 47
        }
      ]
    },
    {
      "cell_type": "markdown",
      "source": [
        "함수 만드는 법"
      ],
      "metadata": {
        "id": "dQqL85JeOeVz"
      }
    },
    {
      "cell_type": "code",
      "source": [
        "def plus(a,b): #def 함수명(입력변수1, 입력변수2):\n",
        "  return a+b #return 출력변수명\n",
        "\n",
        "def plus(a,b): #위랑 똑같음\n",
        "  c = a+b\n",
        "  return c\n",
        "\n",
        "def minus(a,b):\n",
        "  return a-b\n",
        "\n",
        "def multi(a,b):\n",
        "  return a*b\n",
        "\n",
        "def divide(a,b):\n",
        "  return a/b"
      ],
      "metadata": {
        "id": "zSNTACO-Olg0"
      },
      "execution_count": null,
      "outputs": []
    },
    {
      "cell_type": "code",
      "source": [
        "c = plus(1,2); print(c)\n",
        "c = minus(5,3); print(c)\n",
        "c = multi(3,3); print(c)\n",
        "c = divide(6,2); print(c)"
      ],
      "metadata": {
        "colab": {
          "base_uri": "https://localhost:8080/"
        },
        "id": "1fGeeDR-PNve",
        "outputId": "2c30149a-fa74-4cbf-a61c-bd93a54ba4e9"
      },
      "execution_count": null,
      "outputs": [
        {
          "output_type": "stream",
          "name": "stdout",
          "text": [
            "3\n",
            "2\n",
            "9\n",
            "3.0\n"
          ]
        }
      ]
    },
    {
      "cell_type": "markdown",
      "source": [
        "syntax\n",
        "1. 반복문 for\n",
        "2. 조건문 if"
      ],
      "metadata": {
        "id": "nfsj4CP1Qe2C"
      }
    },
    {
      "cell_type": "markdown",
      "source": [
        "1. 반복문 for"
      ],
      "metadata": {
        "id": "9glbL9TNVxHk"
      }
    },
    {
      "cell_type": "code",
      "source": [
        "a = [2,3,4,5]\n",
        "for i in a: #a에 있는 것들을 처음부터 하나씩 i로 넣어서 돌림. for-loop\n",
        "  print(i)"
      ],
      "metadata": {
        "colab": {
          "base_uri": "https://localhost:8080/"
        },
        "id": "a5ZfXVkUQeY2",
        "outputId": "9c51e66e-79d1-40e7-ebf9-9cbafb7ac615"
      },
      "execution_count": null,
      "outputs": [
        {
          "output_type": "stream",
          "name": "stdout",
          "text": [
            "2\n",
            "3\n",
            "4\n",
            "5\n"
          ]
        }
      ]
    },
    {
      "cell_type": "code",
      "source": [
        "a = [2,3,4,5]\n",
        "for i in range(len(a)): #[0,1,2,3]의 리스트가 i에 들어가 0번째, 1번째, ..., 의 순서로 돌아감\n",
        "  print(a[i])"
      ],
      "metadata": {
        "colab": {
          "base_uri": "https://localhost:8080/"
        },
        "id": "_RVT6K42RxGj",
        "outputId": "070cf835-4dc8-40f1-dd4a-30b210582010"
      },
      "execution_count": null,
      "outputs": [
        {
          "output_type": "stream",
          "name": "stdout",
          "text": [
            "2\n",
            "3\n",
            "4\n",
            "5\n"
          ]
        }
      ]
    },
    {
      "cell_type": "code",
      "source": [
        "a = [2,3,4,5]\n",
        "for i in range(3): #[0,1,2]의 순서로 돌아감\n",
        "  print(a[i])"
      ],
      "metadata": {
        "colab": {
          "base_uri": "https://localhost:8080/"
        },
        "id": "Dqme583rR6st",
        "outputId": "d0f948e9-01d0-447b-e889-89275b5ce1d3"
      },
      "execution_count": null,
      "outputs": [
        {
          "output_type": "stream",
          "name": "stdout",
          "text": [
            "2\n",
            "3\n",
            "4\n"
          ]
        }
      ]
    },
    {
      "cell_type": "code",
      "source": [
        "a = ['red', 'orange', 'yellow', 'green'] #문자도 똑같음\n",
        "for i in a:\n",
        "  print(i)"
      ],
      "metadata": {
        "colab": {
          "base_uri": "https://localhost:8080/"
        },
        "id": "phVdfDs7THX7",
        "outputId": "64fcdb83-e9aa-4252-f0e5-ebc37317feaa"
      },
      "execution_count": null,
      "outputs": [
        {
          "output_type": "stream",
          "name": "stdout",
          "text": [
            "red\n",
            "orange\n",
            "yellow\n",
            "green\n"
          ]
        }
      ]
    },
    {
      "cell_type": "code",
      "source": [
        "a = ['red', 'orange', 'yellow', 'green']\n",
        "for i in range(len(a)):\n",
        "  print(a[i])"
      ],
      "metadata": {
        "colab": {
          "base_uri": "https://localhost:8080/"
        },
        "id": "wEAZgEIvTc1H",
        "outputId": "2ab040d3-ce64-4e25-cff7-682eab1d9ceb"
      },
      "execution_count": null,
      "outputs": [
        {
          "output_type": "stream",
          "name": "stdout",
          "text": [
            "red\n",
            "orange\n",
            "yellow\n",
            "green\n"
          ]
        }
      ]
    },
    {
      "cell_type": "code",
      "source": [
        "a = ['red', 'orange', 'yellow', 'green']\n",
        "for i in range(3):\n",
        "  print(a[i])"
      ],
      "metadata": {
        "colab": {
          "base_uri": "https://localhost:8080/"
        },
        "id": "lItBWPHRVFrI",
        "outputId": "219b229f-3112-4470-f2ed-ac7797e2c986"
      },
      "execution_count": null,
      "outputs": [
        {
          "output_type": "stream",
          "name": "stdout",
          "text": [
            "red\n",
            "orange\n",
            "yellow\n"
          ]
        }
      ]
    },
    {
      "cell_type": "code",
      "source": [
        "a = ['red', 'orange', 'yellow', 'green']\n",
        "for i in range(len(a)):\n",
        "  print(a[1])"
      ],
      "metadata": {
        "colab": {
          "base_uri": "https://localhost:8080/"
        },
        "id": "P6mJy7fOVfZa",
        "outputId": "4a444174-ab71-4e82-c8aa-4b4ab584f5f7"
      },
      "execution_count": null,
      "outputs": [
        {
          "output_type": "stream",
          "name": "stdout",
          "text": [
            "orange\n",
            "orange\n",
            "orange\n",
            "orange\n"
          ]
        }
      ]
    },
    {
      "cell_type": "markdown",
      "source": [
        "2. 조건문 if"
      ],
      "metadata": {
        "id": "oXrXmtMIV13f"
      }
    },
    {
      "cell_type": "code",
      "source": [
        "a = 1\n",
        "if a == 1: #a와 0이 같다면\n",
        "  print(a)"
      ],
      "metadata": {
        "colab": {
          "base_uri": "https://localhost:8080/"
        },
        "id": "ql3gCvsHV3lS",
        "outputId": "65ac6ce3-e3ba-4515-cf48-7578cbfd64b8"
      },
      "execution_count": null,
      "outputs": [
        {
          "output_type": "stream",
          "name": "stdout",
          "text": [
            "1\n"
          ]
        }
      ]
    },
    {
      "cell_type": "code",
      "source": [
        "a = 1\n",
        "if a != 1: #a가 1이 아니면\n",
        "  print(a)"
      ],
      "metadata": {
        "id": "Zn1C1ItoWKDv"
      },
      "execution_count": null,
      "outputs": []
    },
    {
      "cell_type": "code",
      "source": [
        "a = 0\n",
        "if a == 1:\n",
        "  print(a)"
      ],
      "metadata": {
        "id": "KLuCa_A1WXlh"
      },
      "execution_count": null,
      "outputs": []
    },
    {
      "cell_type": "code",
      "source": [
        "a = 1\n",
        "if a != 1:\n",
        "  print(a)\n",
        "else:       #그렇지 않다면\n",
        "  print(a+1)"
      ],
      "metadata": {
        "colab": {
          "base_uri": "https://localhost:8080/"
        },
        "id": "WYatMlItWar1",
        "outputId": "436fda7e-6383-4c72-8c73-11cb800f432f"
      },
      "execution_count": null,
      "outputs": [
        {
          "output_type": "stream",
          "name": "stdout",
          "text": [
            "2\n"
          ]
        }
      ]
    },
    {
      "cell_type": "code",
      "source": [
        "for i in range(2,4): #[2,3]\n",
        "  for j in range(3,5): #[3,4]\n",
        "    print(i*j) #2*3, 2*4, 3*3, 3*4"
      ],
      "metadata": {
        "colab": {
          "base_uri": "https://localhost:8080/"
        },
        "id": "kCt3v4uDW02S",
        "outputId": "427901af-e217-4d76-8510-71bb5dc97935"
      },
      "execution_count": null,
      "outputs": [
        {
          "output_type": "stream",
          "name": "stdout",
          "text": [
            "6\n",
            "8\n",
            "9\n",
            "12\n"
          ]
        }
      ]
    },
    {
      "cell_type": "code",
      "source": [
        "for i in range(2, 4): #[2,3]\n",
        "  for j in range(3, 5): #[3,4]\n",
        "    if j >=4:#[4]\n",
        "      print(i*j) #2*4, 3*4"
      ],
      "metadata": {
        "colab": {
          "base_uri": "https://localhost:8080/"
        },
        "id": "W4--QlO5XhvE",
        "outputId": "4b3990ea-f42d-46a6-d56c-3c8cf99a2c83"
      },
      "execution_count": null,
      "outputs": [
        {
          "output_type": "stream",
          "name": "stdout",
          "text": [
            "8\n",
            "12\n"
          ]
        }
      ]
    },
    {
      "cell_type": "markdown",
      "source": [
        "list comprehension: for와 if가 list 안으로 들어감."
      ],
      "metadata": {
        "id": "azrrLMCsYLt1"
      }
    },
    {
      "cell_type": "code",
      "source": [
        "a = [2, 3, 4, 5]\n",
        "b = [i for i in a if i >=3]\n",
        "b"
      ],
      "metadata": {
        "colab": {
          "base_uri": "https://localhost:8080/"
        },
        "id": "Vbkz9HCEYKYB",
        "outputId": "c876ded2-11df-49ee-cf73-c2e27077586e"
      },
      "execution_count": null,
      "outputs": [
        {
          "output_type": "execute_result",
          "data": {
            "text/plain": [
              "[3, 4, 5]"
            ]
          },
          "metadata": {},
          "execution_count": 87
        }
      ]
    },
    {
      "cell_type": "code",
      "source": [
        "a = ['red', 'orange', 'yellow', 'green']\n",
        "b = [i for i in a if len(i) >=6]\n",
        "b"
      ],
      "metadata": {
        "colab": {
          "base_uri": "https://localhost:8080/"
        },
        "id": "VUWwP3KeY21K",
        "outputId": "182fbe38-3885-4dde-d09e-039a1d118a5b"
      },
      "execution_count": null,
      "outputs": [
        {
          "output_type": "execute_result",
          "data": {
            "text/plain": [
              "['orange', 'yellow']"
            ]
          },
          "metadata": {},
          "execution_count": 88
        }
      ]
    },
    {
      "cell_type": "markdown",
      "source": [
        "dict comprehension: for가 dict 안으로 들어감. 결과 순서 중요 X"
      ],
      "metadata": {
        "id": "N59AJBZsYQaF"
      }
    },
    {
      "cell_type": "code",
      "source": [
        "a = ['red', 'orange', 'yellow', 'green']\n",
        "b = [2, 3, 4, 5]\n",
        "c = {a[i]:b[i] for i in range(4)} #[0,1,2,3]\n",
        "c  #{a[0]:b[0], a[1]:b[1], ~ }"
      ],
      "metadata": {
        "colab": {
          "base_uri": "https://localhost:8080/"
        },
        "id": "nbT4sVs8ZNSX",
        "outputId": "13dd8b09-7fc5-4bf6-9989-5dfee2052920"
      },
      "execution_count": null,
      "outputs": [
        {
          "output_type": "execute_result",
          "data": {
            "text/plain": [
              "{'green': 5, 'orange': 3, 'red': 2, 'yellow': 4}"
            ]
          },
          "metadata": {},
          "execution_count": 89
        }
      ]
    },
    {
      "cell_type": "markdown",
      "source": [
        "3월 16일 수업분"
      ],
      "metadata": {
        "id": "S9AZzTL9m3F_"
      }
    },
    {
      "cell_type": "markdown",
      "source": [
        "pakage를 쓸 때 import를 해야함. 중요한 패키지는 install이 되어있기 때문에 import만 하면 됨. "
      ],
      "metadata": {
        "id": "hZx-Asxmah7d"
      }
    },
    {
      "cell_type": "code",
      "source": [
        "import numpy"
      ],
      "metadata": {
        "id": "fDRrKTYDbRvv"
      },
      "execution_count": null,
      "outputs": []
    },
    {
      "cell_type": "markdown",
      "source": [
        "numpy 안의 디렉토리에 있는 function을 지정해야함"
      ],
      "metadata": {
        "id": "KdnRUQoybbVB"
      }
    },
    {
      "cell_type": "code",
      "source": [
        "numpy.random.randn(5)"
      ],
      "metadata": {
        "colab": {
          "base_uri": "https://localhost:8080/"
        },
        "id": "scaf5L-kbxOG",
        "outputId": "55ba3078-e1f3-4246-d463-6125d1394b9e"
      },
      "execution_count": null,
      "outputs": [
        {
          "output_type": "execute_result",
          "data": {
            "text/plain": [
              "array([ 0.56202161,  0.78659903,  0.11452461, -0.16623683,  0.58250043])"
            ]
          },
          "metadata": {},
          "execution_count": 2
        }
      ]
    },
    {
      "cell_type": "code",
      "execution_count": null,
      "metadata": {
        "id": "71c4n3YRaLZv"
      },
      "outputs": [],
      "source": [
        "import numpy as np #이름을 줄이기 위함\n",
        "n = np.random.randn(100)"
      ]
    },
    {
      "cell_type": "code",
      "source": [
        "import matplotlib\n",
        "matplotlib.pyplot.hist(n) #히스토그램 그려주는 함수"
      ],
      "metadata": {
        "colab": {
          "base_uri": "https://localhost:8080/",
          "height": 356
        },
        "id": "AJxiB-SucMKN",
        "outputId": "d616f31d-eb35-4317-b647-4da8c142b4c9"
      },
      "execution_count": null,
      "outputs": [
        {
          "output_type": "execute_result",
          "data": {
            "text/plain": [
              "(array([ 1.,  0.,  6., 11., 17., 21., 16., 13.,  8.,  7.]),\n",
              " array([-2.80276542, -2.27721081, -1.7516562 , -1.2261016 , -0.70054699,\n",
              "        -0.17499239,  0.35056222,  0.87611683,  1.40167143,  1.92722604,\n",
              "         2.45278064]),\n",
              " <a list of 10 Patch objects>)"
            ]
          },
          "metadata": {},
          "execution_count": 6
        },
        {
          "output_type": "display_data",
          "data": {
            "text/plain": [
              "<Figure size 432x288 with 1 Axes>"
            ],
            "image/png": "[encoded data removed]"
          },
          "metadata": {
            "needs_background": "light"
          }
        }
      ]
    },
    {
      "cell_type": "code",
      "source": [
        "import matplotlib.pyplot  #하위 디렉토리까지 쓴 것\n",
        "matplotlib.pyplot.hist(n)"
      ],
      "metadata": {
        "colab": {
          "base_uri": "https://localhost:8080/",
          "height": 356
        },
        "id": "AYYduzC5csJW",
        "outputId": "02ebf5f8-ebca-4d66-f7fc-924e8495a0d3"
      },
      "execution_count": null,
      "outputs": [
        {
          "output_type": "execute_result",
          "data": {
            "text/plain": [
              "(array([ 1.,  0.,  6., 11., 17., 21., 16., 13.,  8.,  7.]),\n",
              " array([-2.80276542, -2.27721081, -1.7516562 , -1.2261016 , -0.70054699,\n",
              "        -0.17499239,  0.35056222,  0.87611683,  1.40167143,  1.92722604,\n",
              "         2.45278064]),\n",
              " <a list of 10 Patch objects>)"
            ]
          },
          "metadata": {},
          "execution_count": 7
        },
        {
          "output_type": "display_data",
          "data": {
            "text/plain": [
              "<Figure size 432x288 with 1 Axes>"
            ],
            "image/png": "[encoded data removed]"
          },
          "metadata": {
            "needs_background": "light"
          }
        }
      ]
    },
    {
      "cell_type": "code",
      "source": [
        "import matplotlib.pyplot as plt #plt로 축약\n",
        "plt.hist(n) #결과는 다 똑같음"
      ],
      "metadata": {
        "colab": {
          "base_uri": "https://localhost:8080/",
          "height": 356
        },
        "id": "dWi5mvsyc8ig",
        "outputId": "2fdef388-e46e-4211-dfd8-1c67977bfc8f"
      },
      "execution_count": null,
      "outputs": [
        {
          "output_type": "execute_result",
          "data": {
            "text/plain": [
              "(array([ 1.,  0.,  6., 11., 17., 21., 16., 13.,  8.,  7.]),\n",
              " array([-2.80276542, -2.27721081, -1.7516562 , -1.2261016 , -0.70054699,\n",
              "        -0.17499239,  0.35056222,  0.87611683,  1.40167143,  1.92722604,\n",
              "         2.45278064]),\n",
              " <a list of 10 Patch objects>)"
            ]
          },
          "metadata": {},
          "execution_count": 8
        },
        {
          "output_type": "display_data",
          "data": {
            "text/plain": [
              "<Figure size 432x288 with 1 Axes>"
            ],
            "image/png": "[encoded data removed]"
          },
          "metadata": {
            "needs_background": "light"
          }
        }
      ]
    },
    {
      "cell_type": "code",
      "source": [
        "from matplotlib import pyplot #축약의 효과\n",
        "pyplot.hist(n)"
      ],
      "metadata": {
        "colab": {
          "base_uri": "https://localhost:8080/",
          "height": 356
        },
        "id": "sKTTpwIUdN7x",
        "outputId": "325fcf94-2395-4087-9860-01d6f1baac3d"
      },
      "execution_count": null,
      "outputs": [
        {
          "output_type": "execute_result",
          "data": {
            "text/plain": [
              "(array([ 1.,  0.,  6., 11., 17., 21., 16., 13.,  8.,  7.]),\n",
              " array([-2.80276542, -2.27721081, -1.7516562 , -1.2261016 , -0.70054699,\n",
              "        -0.17499239,  0.35056222,  0.87611683,  1.40167143,  1.92722604,\n",
              "         2.45278064]),\n",
              " <a list of 10 Patch objects>)"
            ]
          },
          "metadata": {},
          "execution_count": 9
        },
        {
          "output_type": "display_data",
          "data": {
            "text/plain": [
              "<Figure size 432x288 with 1 Axes>"
            ],
            "image/png": "[encoded data removed]"
          },
          "metadata": {
            "needs_background": "light"
          }
        }
      ]
    },
    {
      "cell_type": "code",
      "source": [
        "from matplotlib.pyplot import hist #축약의 효과\n",
        "hist(n)"
      ],
      "metadata": {
        "colab": {
          "base_uri": "https://localhost:8080/",
          "height": 356
        },
        "id": "Fp2VGEnKdYYk",
        "outputId": "fcd52eb1-d280-41ad-df46-076a83c1e757"
      },
      "execution_count": null,
      "outputs": [
        {
          "output_type": "execute_result",
          "data": {
            "text/plain": [
              "(array([ 1.,  0.,  6., 11., 17., 21., 16., 13.,  8.,  7.]),\n",
              " array([-2.80276542, -2.27721081, -1.7516562 , -1.2261016 , -0.70054699,\n",
              "        -0.17499239,  0.35056222,  0.87611683,  1.40167143,  1.92722604,\n",
              "         2.45278064]),\n",
              " <a list of 10 Patch objects>)"
            ]
          },
          "metadata": {},
          "execution_count": 11
        },
        {
          "output_type": "display_data",
          "data": {
            "text/plain": [
              "<Figure size 432x288 with 1 Axes>"
            ],
            "image/png": "[encoded data removed]"
          },
          "metadata": {
            "needs_background": "light"
          }
        }
      ]
    },
    {
      "cell_type": "markdown",
      "source": [
        "\n",
        "create nd(n차원) arrays (=matrices). matrix(행렬): 직사각형 숫자 배열"
      ],
      "metadata": {
        "id": "rgpHmcUFduzq"
      }
    },
    {
      "cell_type": "code",
      "source": [
        "import numpy as np"
      ],
      "metadata": {
        "id": "yS4CU0E0d6CD"
      },
      "execution_count": null,
      "outputs": []
    },
    {
      "cell_type": "code",
      "source": [
        "x = np.array([2,3,4]) #1d array\n",
        "print(x)\n",
        "print(type(x))\n",
        "print(x.shape)"
      ],
      "metadata": {
        "colab": {
          "base_uri": "https://localhost:8080/"
        },
        "id": "vUUYeWIReooN",
        "outputId": "68774c6f-d40c-4aec-c94c-5b93022b7969"
      },
      "execution_count": null,
      "outputs": [
        {
          "output_type": "stream",
          "name": "stdout",
          "text": [
            "[2 3 4]\n",
            "<class 'numpy.ndarray'>\n",
            "(3,)\n"
          ]
        }
      ]
    },
    {
      "cell_type": "code",
      "source": [
        "x = np.arange(0,10,2) #0부터 10까지(10은 포함X) 2씩 증가 \n",
        "print(x)\n",
        "print(type(x))\n",
        "print(x.shape) #1d array"
      ],
      "metadata": {
        "colab": {
          "base_uri": "https://localhost:8080/"
        },
        "id": "AFsPV7JqfD3w",
        "outputId": "d2f68d48-8e9d-4e3d-b6c1-d83b1ca2b043"
      },
      "execution_count": null,
      "outputs": [
        {
          "output_type": "stream",
          "name": "stdout",
          "text": [
            "[0 2 4 6 8]\n",
            "<class 'numpy.ndarray'>\n",
            "(5,)\n"
          ]
        }
      ]
    },
    {
      "cell_type": "code",
      "source": [
        "x = np.linspace(0,10,6) #0부터 10까지(10 포함) 등분하여 6개의 숫자 만들기\n",
        "print(x)\n",
        "print(type(x))\n",
        "print(x.shape) #1d array"
      ],
      "metadata": {
        "colab": {
          "base_uri": "https://localhost:8080/"
        },
        "id": "_X0hyeg4fXyu",
        "outputId": "5bcec5da-caeb-45e1-c0c2-ef76e21e6da2"
      },
      "execution_count": null,
      "outputs": [
        {
          "output_type": "stream",
          "name": "stdout",
          "text": [
            "[ 0.  2.  4.  6.  8. 10.]\n",
            "<class 'numpy.ndarray'>\n",
            "(6,)\n"
          ]
        }
      ]
    },
    {
      "cell_type": "code",
      "source": [
        "x = np.array([[2,3,4], [5,6,7]]) #2층으로 배열\n",
        "print(x)\n",
        "print(type(x))\n",
        "print(x.shape)"
      ],
      "metadata": {
        "colab": {
          "base_uri": "https://localhost:8080/"
        },
        "id": "VvO80GLbfiyd",
        "outputId": "33138ea9-92c3-4bb6-8ed3-4b754723c92e"
      },
      "execution_count": null,
      "outputs": [
        {
          "output_type": "stream",
          "name": "stdout",
          "text": [
            "[[2 3 4]\n",
            " [5 6 7]]\n",
            "<class 'numpy.ndarray'>\n",
            "(2, 3)\n"
          ]
        }
      ]
    },
    {
      "cell_type": "code",
      "source": [
        "x = np.array([[[2,4,8], [10,12,14]], [[16,18,20], [22,24,26]]]) #3d array\n",
        "print(x)\n",
        "print(type(x))\n",
        "print(x.shape) #제일 끝 대괄호 개수로 차원 확인 가능"
      ],
      "metadata": {
        "colab": {
          "base_uri": "https://localhost:8080/"
        },
        "id": "PzY4bUyTgGMG",
        "outputId": "f077edcf-0def-47f5-cdd8-d68c7f32c5cb"
      },
      "execution_count": null,
      "outputs": [
        {
          "output_type": "stream",
          "name": "stdout",
          "text": [
            "[[[ 2  4  8]\n",
            "  [10 12 14]]\n",
            "\n",
            " [[16 18 20]\n",
            "  [22 24 26]]]\n",
            "<class 'numpy.ndarray'>\n",
            "(2, 2, 3)\n"
          ]
        }
      ]
    },
    {
      "cell_type": "code",
      "source": [
        "x = np.ones([2, 2, 3]) #위와 구조는 똑같음\n",
        "print(x)\n",
        "print(type(x))\n",
        "print(x.shape)"
      ],
      "metadata": {
        "colab": {
          "base_uri": "https://localhost:8080/"
        },
        "id": "GEagDHtiguWz",
        "outputId": "ca910546-89ce-4224-f1bc-04f165be8b49"
      },
      "execution_count": null,
      "outputs": [
        {
          "output_type": "stream",
          "name": "stdout",
          "text": [
            "[[[1. 1. 1.]\n",
            "  [1. 1. 1.]]\n",
            "\n",
            " [[1. 1. 1.]\n",
            "  [1. 1. 1.]]]\n",
            "<class 'numpy.ndarray'>\n",
            "(2, 2, 3)\n"
          ]
        }
      ]
    },
    {
      "cell_type": "code",
      "source": [
        "x = np.zeros([2, 2, 3]) #1말고 0으로 채워짐\n",
        "print(x)\n",
        "print(type(x))\n",
        "print(x.shape)\n",
        "x.reshape(2,3,2)"
      ],
      "metadata": {
        "colab": {
          "base_uri": "https://localhost:8080/"
        },
        "id": "nNptosfrg4xX",
        "outputId": "88451d73-d4a0-4b46-9c69-d21ed670f014"
      },
      "execution_count": null,
      "outputs": [
        {
          "output_type": "stream",
          "name": "stdout",
          "text": [
            "[[[0. 0. 0.]\n",
            "  [0. 0. 0.]]\n",
            "\n",
            " [[0. 0. 0.]\n",
            "  [0. 0. 0.]]]\n",
            "<class 'numpy.ndarray'>\n",
            "(2, 2, 3)\n"
          ]
        },
        {
          "output_type": "execute_result",
          "data": {
            "text/plain": [
              "array([[[0., 0.],\n",
              "        [0., 0.],\n",
              "        [0., 0.]],\n",
              "\n",
              "       [[0., 0.],\n",
              "        [0., 0.],\n",
              "        [0., 0.]]])"
            ]
          },
          "metadata": {},
          "execution_count": 30
        }
      ]
    },
    {
      "cell_type": "markdown",
      "source": [
        "create random numbers 난수 만들기"
      ],
      "metadata": {
        "id": "6oAYlXkmhK4P"
      }
    },
    {
      "cell_type": "code",
      "source": [
        "np.random.normal(0, 1, [2,3,4]) #normal distribution의 nd array 만듦. [2,3,4] 구조"
      ],
      "metadata": {
        "colab": {
          "base_uri": "https://localhost:8080/"
        },
        "id": "60VNJe9jhPtr",
        "outputId": "42cdb553-9b78-4b70-dad7-1748a81fc22c"
      },
      "execution_count": null,
      "outputs": [
        {
          "output_type": "execute_result",
          "data": {
            "text/plain": [
              "array([[[ 0.86738385,  0.70048747, -0.33185257, -1.33900953],\n",
              "        [-0.55690804, -0.51351354, -0.48913543,  0.78113099],\n",
              "        [-0.43290624, -0.89331876,  1.51594727,  2.03742819]],\n",
              "\n",
              "       [[ 0.61033417, -0.66045986, -1.46496623,  0.09577022],\n",
              "        [ 1.64002085,  0.85187365, -0.2462941 ,  0.72363311],\n",
              "        [ 1.85375595,  0.23620381, -1.01447695, -0.10827508]]])"
            ]
          },
          "metadata": {},
          "execution_count": 31
        }
      ]
    },
    {
      "cell_type": "code",
      "source": [
        "import matplotlib.pyplot as plt"
      ],
      "metadata": {
        "id": "tMeWubAchyHN"
      },
      "execution_count": null,
      "outputs": []
    },
    {
      "cell_type": "code",
      "source": [
        "x = np.random.normal(0, 1, 100) #1d array\n",
        "print(x)\n",
        "plt.hist(x, bins=10) #10개의 통"
      ],
      "metadata": {
        "colab": {
          "base_uri": "https://localhost:8080/",
          "height": 664
        },
        "id": "3NvvUjdDiHZO",
        "outputId": "c34f3b3e-68fe-4d53-f539-46896fc051ec"
      },
      "execution_count": null,
      "outputs": [
        {
          "output_type": "stream",
          "name": "stdout",
          "text": [
            "[-0.24840925  0.49738358 -0.34556638  1.39650446  1.775608    1.1175711\n",
            " -0.01434871  0.7284198   1.16776367  0.62282478  1.31648079 -0.73212539\n",
            "  0.06707379 -0.39107088  1.26025818  0.26179301  1.05310647  0.26500032\n",
            "  1.85453295 -2.13551261  1.5373516   0.32028484 -0.36268615  2.12408114\n",
            " -0.18672516  1.27825722  0.61727585 -0.38136793 -0.67916275  0.35699186\n",
            "  0.67206229 -0.47092989  2.38944245  1.02888666  1.45378569  2.2403954\n",
            "  0.75998306  2.1718723  -0.35852963 -1.21821438  0.81423548 -0.79896354\n",
            " -0.29408388 -1.96706974 -2.35783484  0.7953799  -0.06427849 -0.69536368\n",
            " -0.15878585  0.00893341 -0.58457155 -1.0860041   1.41604852 -1.86932951\n",
            " -0.33520935  0.9949714   1.84134889 -1.31583132  0.04977178  0.5632651\n",
            " -0.42059105  0.05038955  1.2989779   1.03659787 -0.59751518 -0.53041453\n",
            "  0.36991707  3.0485094  -0.46123067  0.46036538 -0.38235506 -1.44374534\n",
            " -0.80867609 -0.0856968   0.75362116 -0.10413314  0.25227959 -0.98950847\n",
            "  0.49844209  1.76993845  0.94648906 -0.20866744  1.12331132 -0.24370687\n",
            "  2.27365814  0.1902506  -0.873891    0.04558839  0.5793237   1.93395443\n",
            " -0.90382727  0.24784062  1.08378339  1.1167802  -0.89027092  0.48140346\n",
            "  0.52870799  0.53451277 -0.38245457  1.33775248]\n"
          ]
        },
        {
          "output_type": "execute_result",
          "data": {
            "text/plain": [
              "(array([ 4.,  2.,  8., 21., 17., 18., 17.,  7.,  5.,  1.]),\n",
              " array([-2.35783484, -1.81720041, -1.27656599, -0.73593157, -0.19529714,\n",
              "         0.34533728,  0.8859717 ,  1.42660613,  1.96724055,  2.50787498,\n",
              "         3.0485094 ]),\n",
              " <a list of 10 Patch objects>)"
            ]
          },
          "metadata": {},
          "execution_count": 35
        },
        {
          "output_type": "display_data",
          "data": {
            "text/plain": [
              "<Figure size 432x288 with 1 Axes>"
            ],
            "image/png": "[encoded data removed]"
          },
          "metadata": {
            "needs_background": "light"
          }
        }
      ]
    },
    {
      "cell_type": "markdown",
      "source": [
        "사인 곡선 만들기"
      ],
      "metadata": {
        "id": "r6cAnn6yiqBY"
      }
    },
    {
      "cell_type": "code",
      "source": [
        "plt.figure()\n",
        "\n",
        "theta1 = np.linspace(0, 2*np.pi, 100) #그림에 들어갈 내용 정하기. 0부터 2파이까지 100개의 숫자 만듦.\n",
        "s1 = np.sin(theta1)\n",
        "theta2 = np.linspace(0, 2*np.pi, 100) + np.pi/2 #90도 더함\n",
        "s2 = np.sin(theta2)\n",
        "\n",
        "plt.subplot(2, 1, 1) #가로 두줄, 세로 한줄, 그 중에서 첫번째 줄\n",
        "plt.plot(theta1, s1, '.') #x=theta1, y=s1. 점으로 그리기\n",
        "plt.subplot(2, 1, 2)\n",
        "plt.plot(theta2, s2, '.')"
      ],
      "metadata": {
        "colab": {
          "base_uri": "https://localhost:8080/",
          "height": 283
        },
        "id": "ob47fVWiirdp",
        "outputId": "2b140030-4010-4dd0-d1ff-7f866b3d1ea1"
      },
      "execution_count": null,
      "outputs": [
        {
          "output_type": "execute_result",
          "data": {
            "text/plain": [
              "[<matplotlib.lines.Line2D at 0x7f2e892f6c10>]"
            ]
          },
          "metadata": {},
          "execution_count": 38
        },
        {
          "output_type": "display_data",
          "data": {
            "text/plain": [
              "<Figure size 432x288 with 2 Axes>"
            ],
            "image/png": "[encoded data removed]"
          },
          "metadata": {
            "needs_background": "light"
          }
        }
      ]
    },
    {
      "cell_type": "markdown",
      "source": [
        "Correlation coefficient 상관계수\n",
        "\n",
        "* -1<r<1: -1에 가까우면 반비례, 1에 가까우면 비례. r의 절댓값이 0에 가까울 수록 값이 퍼져있음.\n"
      ],
      "metadata": {
        "id": "0QOck3uykznS"
      }
    },
    {
      "cell_type": "code",
      "source": [
        "np.corrcoef(s1,s2) #위 그래프의 y값\n",
        "#2번째 값만 보면 됨. 0이 결과로 나옴."
      ],
      "metadata": {
        "colab": {
          "base_uri": "https://localhost:8080/"
        },
        "id": "kXPzk4Ycklcb",
        "outputId": "b6bb363c-81c5-4979-b9d9-89a492b194a0"
      },
      "execution_count": null,
      "outputs": [
        {
          "output_type": "execute_result",
          "data": {
            "text/plain": [
              "array([[1.00000000e+00, 2.41915449e-17],\n",
              "       [2.41915449e-17, 1.00000000e+00]])"
            ]
          },
          "metadata": {},
          "execution_count": 40
        }
      ]
    }
  ]
}